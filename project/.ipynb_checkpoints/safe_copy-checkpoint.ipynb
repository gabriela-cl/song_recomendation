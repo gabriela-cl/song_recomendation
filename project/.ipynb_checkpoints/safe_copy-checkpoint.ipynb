{
 "cells": [
  {
   "cell_type": "code",
   "execution_count": null,
   "id": "711405d7-647c-405f-bdfe-15ecc8cd1aa3",
   "metadata": {},
   "outputs": [],
   "source": [
    "def correct_song_name(user_input):\n",
    "    song_names = df_top100['song_title'].tolist() #transform the column in a list\n",
    "    best_match, score = process.extractOne(user_input, song_names)\n",
    "    best_match_name = best_match\n",
    "    if score >= 80:  # Threshold for fuzzy matching\n",
    "        print(f\"Song found: {best_match_name}\")\n",
    "        is_song = input(\"Is this your song? yes/no\").lower()\n",
    "        if is_song == \"yes\":\n",
    "            recommended_song = random.choice(top_titles)\n",
    "            print(f\"We recommend: {recommended_song}.\")\n",
    "            track_id = get_song_id(recommended_song)\n",
    "            last = play_song(track_id)\n",
    "            \n",
    "        else:\n",
    "            last = print(\"song not in top 100\")\n",
    "    else:\n",
    "        results = sp.search(q= user_input,limit=5,market=\"GB\")\n",
    "        names = []\n",
    "        for r in results[\"tracks\"][\"items\"][0:5]:\n",
    "            names.append(r[\"name\"])\n",
    "        best_match, score = process.extractOne(user_input, names)\n",
    "        if score >= 80:  # Threshold for fuzzy matching\n",
    "            best_match_name = best_match\n",
    "            print(f\"Song found: {best_match_name}\")\n",
    "            is_song = input(\"Is this your song? yes/no\").lower()\n",
    "            if is_song == \"yes\":\n",
    "                best_match_id = get_song_id(best_match)\n",
    "                #model\n",
    "                last = play_song(track_id)\n",
    "            else:\n",
    "                input(\"Please enter a correct song name:\")\n",
    "            \n",
    "            last = print(\"before last\",best_match_id)\n",
    "            \n",
    "        else:\n",
    "            last = print(\"Error! Please try again!\")\n",
    "    return last"
   ]
  }
 ],
 "metadata": {
  "kernelspec": {
   "display_name": "Python 3 (ipykernel)",
   "language": "python",
   "name": "python3"
  },
  "language_info": {
   "codemirror_mode": {
    "name": "ipython",
    "version": 3
   },
   "file_extension": ".py",
   "mimetype": "text/x-python",
   "name": "python",
   "nbconvert_exporter": "python",
   "pygments_lexer": "ipython3",
   "version": "3.11.9"
  }
 },
 "nbformat": 4,
 "nbformat_minor": 5
}
